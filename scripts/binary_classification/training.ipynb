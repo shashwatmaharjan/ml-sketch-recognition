{
 "cells": [
  {
   "cell_type": "code",
   "execution_count": null,
   "metadata": {},
   "outputs": [],
   "source": [
    "# Import necessary libraries\n",
    "import os\n",
    "import json\n",
    "import numpy as np\n",
    "from sklearn.metrics import accuracy_score, precision_score, recall_score, f1_score\n",
    "\n",
    "import torch\n",
    "import torch.nn.functional as F\n",
    "import torchvision.transforms as transforms\n",
    "from torch import optim\n",
    "from torch import nn\n",
    "from torch.utils.data import DataLoader\n",
    "\n",
    "import matplotlib.pyplot as plt\n",
    "%matplotlib inline"
   ]
  },
  {
   "cell_type": "code",
   "execution_count": null,
   "metadata": {},
   "outputs": [],
   "source": [
    "# Function to randomly shuffle the data\n",
    "def shuffle_data(data, labels, SEED):\n",
    "    \n",
    "    np.random.seed(SEED)\n",
    "    \n",
    "    np.random.shuffle(data)\n",
    "    np.random.shuffle(labels)\n",
    "    \n",
    "    return data, labels"
   ]
  },
  {
   "cell_type": "code",
   "execution_count": null,
   "metadata": {},
   "outputs": [],
   "source": [
    "# Function to split the data into training, validation, and testing set\n",
    "def split_data(data, labels):\n",
    "    \n",
    "    # Split the data into training, validation, and testing set in ratio 80:10:10\n",
    "    # Training set\n",
    "    data_train = data[:int(0.8*len(data)), :, :]\n",
    "    labels_train = labels[:int(0.8*len(labels))]\n",
    "    \n",
    "    # Validation set\n",
    "    data_val = data[int(0.8*len(data)):int(0.9*len(data)), :, :]\n",
    "    labels_val = labels[int(0.8*len(labels)):int(0.9*len(labels))]\n",
    "    \n",
    "    # Testing set\n",
    "    data_test = data[int(0.9*len(data)):, :, :]\n",
    "    labels_test = labels[int(0.9*len(labels)):]\n",
    "        \n",
    "    return data_train, labels_train, data_val, labels_val, data_test, labels_test"
   ]
  },
  {
   "cell_type": "code",
   "execution_count": null,
   "metadata": {},
   "outputs": [],
   "source": [
    "# CNN model\n",
    "class CNN(nn.Module):\n",
    "    \n",
    "    # Here we are basically defining the layers of the model\n",
    "    # To then use them in the forward pass\n",
    "    def __init__(self, in_channels=1, num_classes=1):\n",
    "        \n",
    "        super(CNN, self).__init__()\n",
    "        \n",
    "        # First convolutional layer\n",
    "        self.conv1 = nn.Conv2d(in_channels=in_channels, out_channels=8, kernel_size=(3, 3), stride=(1, 1), padding=(1, 1))\n",
    "        \n",
    "        # Note: kernel_size = (3, 3), stride = (1, 1), and padding = (1, 1) combination is called \"same convolution\"\n",
    "        # because the input and output have the same spatial dimensions\n",
    "        # Can verify using n_out = (n_in - k + 2*p)/s + 1\n",
    "        \n",
    "        # Max pooling layer\n",
    "        # Halves the spatial dimensions\n",
    "        self.pool = nn.MaxPool2d(kernel_size=(2, 2), stride=(2, 2))\n",
    "        \n",
    "        # Second convolutional layer\n",
    "        self.conv2 = nn.Conv2d(in_channels=8, out_channels=16, kernel_size=(3, 3), stride=(1, 1), padding=(1, 1))\n",
    "        \n",
    "        # Fully connected layer\n",
    "        # 92 because 371/2 = 185.5 -> 185/2 = 92.5 -> 92\n",
    "        self.fc1 = nn.Linear(in_features=16*92*92, out_features=num_classes)\n",
    "    \n",
    "    # Forward pass\n",
    "    def forward(self, x):\n",
    "        \n",
    "        # First convolutional layer\n",
    "        x = F.relu(self.conv1(x))\n",
    "        \n",
    "        # Max pooling layer\n",
    "        x = self.pool(x)\n",
    "        \n",
    "        # Second convolutional layer\n",
    "        x = F.relu(self.conv2(x))\n",
    "        \n",
    "        # Max pooling layer\n",
    "        x = self.pool(x)\n",
    "        \n",
    "        # Flatten the data\n",
    "        x = x.reshape(x.shape[0], -1)\n",
    "        \n",
    "        # Fully connected layer\n",
    "        x = self.fc1(x)\n",
    "        \n",
    "        return x"
   ]
  },
  {
   "cell_type": "code",
   "execution_count": null,
   "metadata": {},
   "outputs": [],
   "source": [
    "# Define directories\n",
    "current_directory = os.getcwd()\n",
    "parent_directory = os.path.dirname(current_directory)\n",
    "grandparent_directory = os.path.dirname(parent_directory)\n",
    "data_directory = os.path.join(grandparent_directory, 'data')\n",
    "npy_files_directory = os.path.join(grandparent_directory, 'data', 'npy')\n",
    "results_directory = os.path.join(grandparent_directory, 'results', 'binary_classification')"
   ]
  },
  {
   "cell_type": "code",
   "execution_count": null,
   "metadata": {},
   "outputs": [],
   "source": [
    "# Open the .json files with the class names\n",
    "with open(os.path.join(data_directory, 'classes.json'), 'r') as file:\n",
    "    classes = json.load(file)"
   ]
  },
  {
   "cell_type": "code",
   "execution_count": null,
   "metadata": {},
   "outputs": [],
   "source": [
    "# Load the .npy files\n",
    "household_objects = np.load(os.path.join(npy_files_directory, 'household_objects.npy'))\n",
    "animals = np.load(os.path.join(npy_files_directory, 'animals.npy'))\n",
    "\n",
    "# Number of dataset in each class\n",
    "num_household_objects = household_objects.shape[2]\n",
    "print(f'Number of household objects: {num_household_objects}')\n",
    "\n",
    "num_animals = animals.shape[2]\n",
    "print(f'Number of animals: {num_animals}')"
   ]
  },
  {
   "cell_type": "code",
   "execution_count": null,
   "metadata": {},
   "outputs": [],
   "source": [
    "# No need to normalize the data since the values are already between 0 and 1\n",
    "# Reshape the data\n",
    "household_objects = household_objects.transpose(2, 0, 1)\n",
    "animals = animals.transpose(2, 0, 1)\n",
    "\n",
    "# Print the shape of the data\n",
    "print(f'Household objects shape: {household_objects.shape}')\n",
    "print(f'Animals shape: {animals.shape}')"
   ]
  },
  {
   "cell_type": "code",
   "execution_count": null,
   "metadata": {},
   "outputs": [],
   "source": [
    "# Create the labels\n",
    "household_objects_labels = np.zeros(num_household_objects)\n",
    "animals_labels = np.ones(num_animals)"
   ]
  },
  {
   "cell_type": "code",
   "execution_count": null,
   "metadata": {},
   "outputs": [],
   "source": [
    "# Stack the data\n",
    "data = np.vstack((household_objects, animals))\n",
    "labels = np.hstack((household_objects_labels, animals_labels))"
   ]
  },
  {
   "cell_type": "code",
   "execution_count": null,
   "metadata": {},
   "outputs": [],
   "source": [
    "# Randomize the data with a SEED\n",
    "SEED = 42\n",
    "data, labels = shuffle_data(data, labels, SEED)"
   ]
  },
  {
   "cell_type": "code",
   "execution_count": null,
   "metadata": {},
   "outputs": [],
   "source": [
    "# Split the data into training, validation, and testing set in ratio 80:10:10\n",
    "data_train, labels_train, data_val, labels_val, data_test, labels_test = split_data(data, labels)"
   ]
  },
  {
   "cell_type": "code",
   "execution_count": null,
   "metadata": {},
   "outputs": [],
   "source": [
    "# Print the shape of the training, validation, and testing set\n",
    "print(f'Training set shape: {data_train.shape}, {labels_train.shape}')\n",
    "print(f'Validation set shape: {data_val.shape}, {labels_val.shape}')\n",
    "print(f'Testing set shape: {data_test.shape}, {labels_test.shape}')"
   ]
  },
  {
   "cell_type": "code",
   "execution_count": null,
   "metadata": {},
   "outputs": [],
   "source": [
    "# Set device\n",
    "device = torch.device('mps' if torch.backends.mps.is_available() else 'cuda')"
   ]
  },
  {
   "cell_type": "code",
   "execution_count": null,
   "metadata": {},
   "outputs": [],
   "source": [
    "# Instantiate the model\n",
    "model = CNN().to(device)"
   ]
  },
  {
   "cell_type": "code",
   "execution_count": null,
   "metadata": {},
   "outputs": [],
   "source": [
    "# # Pass the basic tensor to see if the model is working\n",
    "# x = torch.randn(64, 1, 371, 371).to(device)\n",
    "# print(model(x).shape)"
   ]
  },
  {
   "cell_type": "code",
   "execution_count": null,
   "metadata": {},
   "outputs": [],
   "source": [
    "# Hyperparameters\n",
    "in_channels = 1\n",
    "num_classes = 2\n",
    "learning_rate = 0.001\n",
    "batch_size = 64\n",
    "num_epochs = 2"
   ]
  },
  {
   "cell_type": "code",
   "execution_count": null,
   "metadata": {},
   "outputs": [],
   "source": [
    "# Loss and optimizer\n",
    "criterion = nn.BCEWithLogitsLoss()\n",
    "optimizer = optim.Adam(model.parameters(), lr=learning_rate)"
   ]
  },
  {
   "cell_type": "code",
   "execution_count": null,
   "metadata": {},
   "outputs": [],
   "source": [
    "# Data loaders\n",
    "train_dataset = DataLoader(dataset=list(zip(data_train, labels_train)), batch_size=batch_size, shuffle=True)\n",
    "val_dataset = DataLoader(dataset=list(zip(data_val, labels_val)), batch_size=batch_size, shuffle=False)\n",
    "test_dataset = DataLoader(dataset=list(zip(data_test, labels_test)), batch_size=batch_size, shuffle=False)"
   ]
  },
  {
   "cell_type": "code",
   "execution_count": null,
   "metadata": {},
   "outputs": [],
   "source": [
    "# Empty lists to store the losses and accuracies\n",
    "train_loss = {}\n",
    "train_metrics = {\n",
    "    'accuracy': {},\n",
    "    'precision': {},\n",
    "    'recall': {},\n",
    "    'f1_score': {}\n",
    "}\n",
    "\n",
    "val_loss = {}\n",
    "val_train_metrics = {\n",
    "    'accuracy': {},\n",
    "    'precision': {},\n",
    "    'recall': {},\n",
    "    'f1_score': {}\n",
    "}"
   ]
  },
  {
   "cell_type": "code",
   "execution_count": null,
   "metadata": {},
   "outputs": [],
   "source": [
    "# Train the network\n",
    "for epoch in range(num_epochs):\n",
    "    \n",
    "    # Set the model to training mode\n",
    "    model.train()\n",
    "    \n",
    "    # Append an empty list to store the loss per batch\n",
    "    train_loss[f'Epoch {epoch+1}'] = []\n",
    "    \n",
    "    # Empty lists to store the predictions and labels\n",
    "    train_predictions = []\n",
    "    train_labels = []\n",
    "    \n",
    "    for batch_idx, (data, labels) in enumerate(train_dataset):\n",
    "    \n",
    "        # Adding unsqueeze to add the channel dimension\n",
    "        data = data.unsqueeze(1).to(device)\n",
    "        labels = labels.unsqueeze(1).float().to(device) # Convert to float32\n",
    "        \n",
    "        # Forward pass\n",
    "        scores = model(data)\n",
    "        loss = criterion(scores, labels)\n",
    "        \n",
    "        # Add the loss to the train_loss_per_batch dictionary\n",
    "        train_loss[f'Epoch {epoch+1}'].append(loss.item())\n",
    "        \n",
    "        # Store predictions and labels\n",
    "        # If the prediction is greater than 0.5, then it is a household object class set as 0\n",
    "        # If the prediction is less than 0.5, then it is a animal class set as 1\n",
    "        predictions = torch.sigmoid(scores)\n",
    "        predictions = (predictions > 0.5).float()\n",
    "        \n",
    "        train_predictions.append(predictions.cpu().detach().numpy())\n",
    "        train_labels.append(labels.cpu().detach().numpy())\n",
    "        \n",
    "        # Backward pass\n",
    "        optimizer.zero_grad()\n",
    "        loss.backward()\n",
    "        \n",
    "        # Gradient descent\n",
    "        optimizer.step()\n",
    "    \n",
    "    # Calculate the metrics at the end of each epoch\n",
    "    train_predictions = np.vstack(train_predictions)\n",
    "    train_labels = np.vstack(train_labels)\n",
    "    \n",
    "    train_metrics['accuracy'][f'Epoch {epoch+1}'] = accuracy_score(train_labels, train_predictions)\n",
    "    train_metrics['precision'][f'Epoch {epoch+1}'] = precision_score(train_labels, train_predictions)\n",
    "    train_metrics['recall'][f'Epoch {epoch+1}'] = recall_score(train_labels, train_predictions)\n",
    "    train_metrics['f1_score'][f'Epoch {epoch+1}'] = f1_score(train_labels, train_predictions)\n",
    "    \n",
    "    # Print the epoch, and loss\n",
    "    print(f'Epoch {epoch+1}, Loss: {np.mean(train_loss[f\"Epoch {epoch+1}\"]):.3f}, F1-score: {train_metrics[\"f1_score\"][f\"Epoch {epoch+1}\"]*100:.0f}%')"
   ]
  }
 ],
 "metadata": {
  "kernelspec": {
   "display_name": "env",
   "language": "python",
   "name": "python3"
  },
  "language_info": {
   "codemirror_mode": {
    "name": "ipython",
    "version": 3
   },
   "file_extension": ".py",
   "mimetype": "text/x-python",
   "name": "python",
   "nbconvert_exporter": "python",
   "pygments_lexer": "ipython3",
   "version": "3.9.20"
  }
 },
 "nbformat": 4,
 "nbformat_minor": 2
}
